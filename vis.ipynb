{
 "cells": [
  {
   "cell_type": "code",
   "execution_count": 1,
   "metadata": {},
   "outputs": [],
   "source": [
    "import os\n",
    "import cv2\n",
    "import matplotlib.pyplot as plt"
   ]
  },
  {
   "cell_type": "code",
   "execution_count": null,
   "metadata": {},
   "outputs": [],
   "source": [
    "dir = '/home/dan/serpent/frame_log'\n",
    "list = os.listdir(dir)\n",
    "# file = list[len(list) - 1]\n",
    "# im = cv2.imread(os.path.join(dir, file))\n",
    "# im = cv2.cvtColor(im, cv2.COLOR_BGR2RGB)\n",
    "\n",
    "print(len(list))"
   ]
  },
  {
   "cell_type": "code",
   "execution_count": null,
   "metadata": {},
   "outputs": [],
   "source": [
    "plt.imshow(im)"
   ]
  },
  {
   "cell_type": "code",
   "execution_count": null,
   "metadata": {},
   "outputs": [],
   "source": [
    "import numpy as np"
   ]
  },
  {
   "cell_type": "code",
   "execution_count": null,
   "metadata": {},
   "outputs": [],
   "source": [
    "ar = np.array(list)"
   ]
  },
  {
   "cell_type": "code",
   "execution_count": null,
   "metadata": {},
   "outputs": [],
   "source": [
    "list.sort()\n",
    "ar = np.array(list)\n",
    "fig = plt.figure(figsize=(100, 100))  # width, height in inches\n",
    "\n",
    "i = 0\n",
    "# for file in ar[np.random.choice(ar.shape[0], 10, replace=False)]:\n",
    "for file in ar[-10:]:\n",
    "    print(file)\n",
    "    im = cv2.imread(os.path.join(dir, file))\n",
    "    im = cv2.cvtColor(im, cv2.COLOR_BGR2RGB)\n",
    "    \n",
    "    sub = fig.add_subplot(len(list), 1, i + 1)\n",
    "    sub.imshow(im)\n",
    "    i += 1"
   ]
  },
  {
   "cell_type": "code",
   "execution_count": null,
   "metadata": {},
   "outputs": [],
   "source": [
    "im = cv2.imread(os.path.join(dir, ar[-1:][0]))\n",
    "im = cv2.cvtColor(im, cv2.COLOR_BGR2RGB)\n",
    "plt.imshow(im)"
   ]
  },
  {
   "cell_type": "code",
   "execution_count": null,
   "metadata": {},
   "outputs": [],
   "source": [
    "def draw_trade(image, trade_type, pl_percent):\n",
    "    cv2.rectangle(image, (0,0),(50,image.shape[0]),(0,0,0),-1)\n",
    "\n",
    "    t_origin = (0,0)\n",
    "    t_end = (50,int(image.shape[0]/2))\n",
    "\n",
    "    if trade_type == 0:\n",
    "        t_origin = (0,int(image.shape[0]/2))\n",
    "        t_end = (50,0)\n",
    "\n",
    "    cv2.line(image,t_origin,t_end,(255,255,255),2)\n",
    "\n",
    "    start_rad = 1\n",
    "    end_rad = 20\n",
    "\n",
    "    if pl_percent > 1.0: pl_percent = 1.0\n",
    "    if pl_percent < -1.0: pl_percent = -1.0\n",
    "\n",
    "    rad = int(start_rad + ((end_rad - start_rad) * np.abs(pl_percent)))\n",
    "    center = (25, int(image.shape[0]/4 * 3))\n",
    "    color = (255,255,255)\n",
    "    border = -1\n",
    "    if pl_percent < 0:\n",
    "        border = 1\n",
    "    cv2.circle(image,center,rad,color,border)\n"
   ]
  },
  {
   "cell_type": "code",
   "execution_count": null,
   "metadata": {},
   "outputs": [],
   "source": [
    "im = cv2.cvtColor(im, cv2.COLOR_BGR2GRAY)\n",
    "im = im.reshape((im.shape[0], im.shape[1], -1))\n",
    "        \n",
    "draw_trade(im, 1, -0.5)\n",
    "im = im.reshape((im.shape[0], im.shape[1]))\n",
    "\n",
    "plt.imshow(im[10:,:-15])"
   ]
  },
  {
   "cell_type": "code",
   "execution_count": null,
   "metadata": {},
   "outputs": [],
   "source": [
    "from configparser import ConfigParser\n",
    "\n",
    "parser = ConfigParser()\n",
    "parser.read('/home/dan/src/pgtest/transfer/config.ini')"
   ]
  },
  {
   "cell_type": "code",
   "execution_count": null,
   "metadata": {},
   "outputs": [],
   "source": [
    "parser.has_section('postgresql_in')"
   ]
  },
  {
   "cell_type": "code",
   "execution_count": 5,
   "metadata": {},
   "outputs": [
    {
     "name": "stdout",
     "output_type": "stream",
     "text": [
      "Collecting tf-agents-nightly\n",
      "  Using cached https://files.pythonhosted.org/packages/5a/4a/dec7d4a6ab707f8a40e987990b7cf0f5d61a2b6695daf7aeea5a890e1334/tf_agents_nightly-0.2.0.dev20190528-py2.py3-none-any.whl\n",
      "Requirement already satisfied: numpy>=1.13.3 in /home/dan/.pyenv/versions/3.7.3/envs/py3/lib/python3.7/site-packages (from tf-agents-nightly) (1.16.4)\n",
      "Requirement already satisfied: absl-py>=0.6.1 in /home/dan/.pyenv/versions/3.7.3/envs/py3/lib/python3.7/site-packages (from tf-agents-nightly) (0.7.1)\n",
      "Requirement already satisfied: six>=1.10.0 in /home/dan/.pyenv/versions/3.7.3/envs/py3/lib/python3.7/site-packages (from tf-agents-nightly) (1.12.0)\n",
      "Collecting tfp-nightly (from tf-agents-nightly)\n",
      "\u001b[?25l  Downloading https://files.pythonhosted.org/packages/dc/c6/42536e940c3bf0d2dd30995858e1211fc69dbc95a5943196699e94dce0cf/tfp_nightly-0.8.0.dev20190611-py2.py3-none-any.whl (1.1MB)\n",
      "\u001b[K    100% |████████████████████████████████| 1.1MB 9.8MB/s eta 0:00:01\n",
      "\u001b[?25hCollecting gin-config==0.1.3 (from tf-agents-nightly)\n",
      "  Using cached https://files.pythonhosted.org/packages/8c/be/c984b1c8a7ba1c385b32bf39c7a225cd9f713d49705898309d01b60fd0e7/gin_config-0.1.3-py3-none-any.whl\n",
      "Requirement already satisfied: decorator in /home/dan/.pyenv/versions/3.7.3/envs/py3/lib/python3.7/site-packages (from tfp-nightly->tf-agents-nightly) (4.4.0)\n",
      "Requirement already satisfied: cloudpickle==1.1.1 in /home/dan/.pyenv/versions/3.7.3/envs/py3/lib/python3.7/site-packages (from tfp-nightly->tf-agents-nightly) (1.1.1)\n",
      "Installing collected packages: tfp-nightly, gin-config, tf-agents-nightly\n",
      "Successfully installed gin-config-0.1.3 tf-agents-nightly-0.2.0.dev20190528 tfp-nightly-0.8.0.dev20190611\n",
      "\u001b[33mYou are using pip version 19.0.3, however version 19.1.1 is available.\n",
      "You should consider upgrading via the 'pip install --upgrade pip' command.\u001b[0m\n"
     ]
    }
   ],
   "source": [
    "!pip install tf-agents-nightly\n"
   ]
  },
  {
   "cell_type": "code",
   "execution_count": 6,
   "metadata": {},
   "outputs": [
    {
     "ename": "ModuleNotFoundError",
     "evalue": "No module named 'serpent'",
     "output_type": "error",
     "traceback": [
      "\u001b[0;31m---------------------------------------------------------------------------\u001b[0m",
      "\u001b[0;31mModuleNotFoundError\u001b[0m                       Traceback (most recent call last)",
      "\u001b[0;32m<ipython-input-6-dd276f13259d>\u001b[0m in \u001b[0;36m<module>\u001b[0;34m\u001b[0m\n\u001b[1;32m      1\u001b[0m \u001b[0;32mimport\u001b[0m \u001b[0msys\u001b[0m\u001b[0;34m\u001b[0m\u001b[0;34m\u001b[0m\u001b[0m\n\u001b[1;32m      2\u001b[0m \u001b[0msys\u001b[0m\u001b[0;34m.\u001b[0m\u001b[0mpath\u001b[0m\u001b[0;34m.\u001b[0m\u001b[0mappend\u001b[0m\u001b[0;34m(\u001b[0m\u001b[0;34m'/home/dan/serpent/baselines'\u001b[0m\u001b[0;34m)\u001b[0m\u001b[0;34m\u001b[0m\u001b[0;34m\u001b[0m\u001b[0m\n\u001b[0;32m----> 3\u001b[0;31m \u001b[0;32mfrom\u001b[0m \u001b[0mt4_env\u001b[0m \u001b[0;32mimport\u001b[0m \u001b[0mSCSimEnv\u001b[0m\u001b[0;34m\u001b[0m\u001b[0;34m\u001b[0m\u001b[0m\n\u001b[0m",
      "\u001b[0;32m~/serpent/baselines/t4_env.py\u001b[0m in \u001b[0;36m<module>\u001b[0;34m\u001b[0m\n\u001b[1;32m      2\u001b[0m \u001b[0msys\u001b[0m\u001b[0;34m.\u001b[0m\u001b[0mpath\u001b[0m\u001b[0;34m.\u001b[0m\u001b[0mappend\u001b[0m\u001b[0;34m(\u001b[0m\u001b[0;34m'/home/dan/serpent/common'\u001b[0m\u001b[0;34m)\u001b[0m\u001b[0;34m\u001b[0m\u001b[0;34m\u001b[0m\u001b[0m\n\u001b[1;32m      3\u001b[0m \u001b[0;34m\u001b[0m\u001b[0m\n\u001b[0;32m----> 4\u001b[0;31m \u001b[0;32mfrom\u001b[0m \u001b[0mtf_agent\u001b[0m \u001b[0;32mimport\u001b[0m \u001b[0mT4TFEnv\u001b[0m\u001b[0;34m\u001b[0m\u001b[0;34m\u001b[0m\u001b[0m\n\u001b[0m\u001b[1;32m      5\u001b[0m \u001b[0;34m\u001b[0m\u001b[0m\n\u001b[1;32m      6\u001b[0m \u001b[0;32mimport\u001b[0m \u001b[0mgym\u001b[0m\u001b[0;34m\u001b[0m\u001b[0;34m\u001b[0m\u001b[0m\n",
      "\u001b[0;32m~/serpent/common/tf_agent.py\u001b[0m in \u001b[0;36m<module>\u001b[0;34m\u001b[0m\n\u001b[1;32m     18\u001b[0m \u001b[0;34m\u001b[0m\u001b[0m\n\u001b[1;32m     19\u001b[0m \u001b[0;34m\u001b[0m\u001b[0m\n\u001b[0;32m---> 20\u001b[0;31m \u001b[0;32mfrom\u001b[0m \u001b[0mserpent\u001b[0m\u001b[0;34m.\u001b[0m\u001b[0minput_controller\u001b[0m \u001b[0;32mimport\u001b[0m \u001b[0mKeyboardKey\u001b[0m\u001b[0;34m\u001b[0m\u001b[0;34m\u001b[0m\u001b[0m\n\u001b[0m\u001b[1;32m     21\u001b[0m \u001b[0;32mfrom\u001b[0m \u001b[0mserpent\u001b[0m\u001b[0;34m.\u001b[0m\u001b[0mgame_agent\u001b[0m \u001b[0;32mimport\u001b[0m \u001b[0mGameAgent\u001b[0m\u001b[0;34m\u001b[0m\u001b[0;34m\u001b[0m\u001b[0m\n\u001b[1;32m     22\u001b[0m \u001b[0;31m# from .ppo import SerpentPPO\u001b[0m\u001b[0;34m\u001b[0m\u001b[0;34m\u001b[0m\u001b[0;34m\u001b[0m\u001b[0m\n",
      "\u001b[0;31mModuleNotFoundError\u001b[0m: No module named 'serpent'"
     ]
    }
   ],
   "source": [
    "import sys\n",
    "sys.path.append('/home/dan/serpent/baselines')\n",
    "from t4_env import SCSimEnv"
   ]
  }
 ],
 "metadata": {
  "kernelspec": {
   "display_name": "Python 3",
   "language": "python",
   "name": "python3"
  },
  "language_info": {
   "codemirror_mode": {
    "name": "ipython",
    "version": 3
   },
   "file_extension": ".py",
   "mimetype": "text/x-python",
   "name": "python",
   "nbconvert_exporter": "python",
   "pygments_lexer": "ipython3",
   "version": "3.7.3"
  }
 },
 "nbformat": 4,
 "nbformat_minor": 2
}
