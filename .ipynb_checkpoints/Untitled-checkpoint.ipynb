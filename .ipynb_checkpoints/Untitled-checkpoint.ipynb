{
 "cells": [
  {
   "cell_type": "code",
   "execution_count": 1,
   "metadata": {},
   "outputs": [],
   "source": [
    "from __future__ import absolute_import\n",
    "from __future__ import division\n",
    "from __future__ import print_function\n",
    "\n",
    "import abc\n",
    "import tensorflow as tf\n",
    "import numpy as np\n",
    "\n",
    "from tf_agents.environments import py_environment\n",
    "from tf_agents.environments import tf_environment\n",
    "from tf_agents.environments import tf_py_environment\n",
    "from tf_agents.environments import utils\n",
    "from tf_agents.specs import array_spec\n",
    "from tf_agents.environments import wrappers\n",
    "from tf_agents.environments import suite_gym\n",
    "from tf_agents.trajectories import time_step as ts\n",
    "\n",
    "tf.compat.v1.enable_v2_behavior()"
   ]
  },
  {
   "cell_type": "code",
   "execution_count": 2,
   "metadata": {},
   "outputs": [
    {
     "data": {
      "text/plain": [
       "\u001b[0;31mInit signature:\u001b[0m \u001b[0marray_spec\u001b[0m\u001b[0;34m.\u001b[0m\u001b[0mArraySpec\u001b[0m\u001b[0;34m(\u001b[0m\u001b[0mshape\u001b[0m\u001b[0;34m,\u001b[0m \u001b[0mdtype\u001b[0m\u001b[0;34m,\u001b[0m \u001b[0mname\u001b[0m\u001b[0;34m=\u001b[0m\u001b[0;32mNone\u001b[0m\u001b[0;34m)\u001b[0m\u001b[0;34m\u001b[0m\u001b[0m\n",
       "\u001b[0;31mDocstring:\u001b[0m     \n",
       "Describes a numpy array or scalar shape and dtype.\n",
       "\n",
       "An `ArraySpec` allows an API to describe the arrays that it accepts or\n",
       "returns, before that array exists.\n",
       "The equivalent version describing a `tf.Tensor` is `TensorSpec`.\n",
       "\u001b[0;31mInit docstring:\u001b[0m\n",
       "Initializes a new `ArraySpec`.\n",
       "\n",
       "Args:\n",
       "  shape: An iterable specifying the array shape.\n",
       "  dtype: numpy dtype or string specifying the array dtype.\n",
       "  name: Optional string containing a semantic name for the corresponding\n",
       "    array. Defaults to `None`.\n",
       "\n",
       "Raises:\n",
       "  TypeError: If the shape is not an iterable or if the `dtype` is an invalid\n",
       "    numpy dtype.\n",
       "\u001b[0;31mFile:\u001b[0m           ~/.pyenv/versions/3.6.4/envs/serpent/lib/python3.6/site-packages/tf_agents/specs/array_spec.py\n",
       "\u001b[0;31mType:\u001b[0m           type\n",
       "\u001b[0;31mSubclasses:\u001b[0m     BoundedArraySpec\n"
      ]
     },
     "metadata": {},
     "output_type": "display_data"
    }
   ],
   "source": [
    "array_spec.ArraySpec?"
   ]
  },
  {
   "cell_type": "code",
   "execution_count": null,
   "metadata": {},
   "outputs": [],
   "source": [
    "class T4Environment(py_environment.PyEnvironment):\n",
    "    def __init__(self, input_shape):\n",
    "        self._action_spec = array_spec.BoundedArraySpec(\n",
    "            shape=(), dtype=np.int32, minimum=0, maximum=1, name='action')\n",
    "        self._observation_spec = array_spec.ArraySpec(shape=input_shape, dtype=np.float32, name='observation')\n",
    "        \n",
    "        \n",
    "#         array_spec.BoundedArraySpec(\n",
    "#             shape=(1,), dtype=np.int32, minimum=0, name='observation')\n",
    "        self._state = 0\n",
    "        self._episode_ended = False\n",
    "\n",
    "    def action_spec(self):\n",
    "        return self._action_spec\n",
    "\n",
    "    def observation_spec(self):\n",
    "        return self._observation_spec"
   ]
  }
 ],
 "metadata": {
  "kernelspec": {
   "display_name": "Python 3",
   "language": "python",
   "name": "python3"
  },
  "language_info": {
   "codemirror_mode": {
    "name": "ipython",
    "version": 3
   },
   "file_extension": ".py",
   "mimetype": "text/x-python",
   "name": "python",
   "nbconvert_exporter": "python",
   "pygments_lexer": "ipython3",
   "version": "3.6.4"
  }
 },
 "nbformat": 4,
 "nbformat_minor": 2
}
